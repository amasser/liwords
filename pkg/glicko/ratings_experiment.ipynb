{
 "cells": [
  {
   "cell_type": "code",
   "execution_count": 5,
   "metadata": {},
   "outputs": [],
   "source": [
    "import matplotlib.pyplot as plt\n",
    "import numpy as np\n",
    "import pandas as pd"
   ]
  },
  {
   "cell_type": "code",
   "execution_count": 6,
   "metadata": {},
   "outputs": [],
   "source": [
    "df = pd.read_csv('crosstables_game_results.csv', header=None)"
   ]
  },
  {
   "cell_type": "code",
   "execution_count": 7,
   "metadata": {},
   "outputs": [
    {
     "data": {
      "text/html": [
       "<div>\n",
       "<style scoped>\n",
       "    .dataframe tbody tr th:only-of-type {\n",
       "        vertical-align: middle;\n",
       "    }\n",
       "\n",
       "    .dataframe tbody tr th {\n",
       "        vertical-align: top;\n",
       "    }\n",
       "\n",
       "    .dataframe thead th {\n",
       "        text-align: right;\n",
       "    }\n",
       "</style>\n",
       "<table border=\"1\" class=\"dataframe\">\n",
       "  <thead>\n",
       "    <tr style=\"text-align: right;\">\n",
       "      <th></th>\n",
       "      <th>0</th>\n",
       "      <th>1</th>\n",
       "      <th>2</th>\n",
       "      <th>3</th>\n",
       "      <th>4</th>\n",
       "      <th>5</th>\n",
       "      <th>6</th>\n",
       "      <th>7</th>\n",
       "    </tr>\n",
       "  </thead>\n",
       "  <tbody>\n",
       "    <tr>\n",
       "      <td>0</td>\n",
       "      <td>49957</td>\n",
       "      <td>2000-01-13</td>\n",
       "      <td>4</td>\n",
       "      <td>2091</td>\n",
       "      <td>486</td>\n",
       "      <td>360</td>\n",
       "      <td>John Karris</td>\n",
       "      <td>Steven Alexander</td>\n",
       "    </tr>\n",
       "    <tr>\n",
       "      <td>1</td>\n",
       "      <td>49958</td>\n",
       "      <td>2000-01-13</td>\n",
       "      <td>4</td>\n",
       "      <td>1389</td>\n",
       "      <td>402</td>\n",
       "      <td>398</td>\n",
       "      <td>John Karris</td>\n",
       "      <td>Trip Payne</td>\n",
       "    </tr>\n",
       "    <tr>\n",
       "      <td>2</td>\n",
       "      <td>49966</td>\n",
       "      <td>2000-01-13</td>\n",
       "      <td>5</td>\n",
       "      <td>1389</td>\n",
       "      <td>523</td>\n",
       "      <td>353</td>\n",
       "      <td>Dennis Kaiser</td>\n",
       "      <td>Trip Payne</td>\n",
       "    </tr>\n",
       "    <tr>\n",
       "      <td>3</td>\n",
       "      <td>49996</td>\n",
       "      <td>2000-01-13</td>\n",
       "      <td>33</td>\n",
       "      <td>4</td>\n",
       "      <td>451</td>\n",
       "      <td>353</td>\n",
       "      <td>Joey Mallick</td>\n",
       "      <td>John Karris</td>\n",
       "    </tr>\n",
       "    <tr>\n",
       "      <td>4</td>\n",
       "      <td>49997</td>\n",
       "      <td>2000-01-13</td>\n",
       "      <td>33</td>\n",
       "      <td>839</td>\n",
       "      <td>356</td>\n",
       "      <td>350</td>\n",
       "      <td>Joey Mallick</td>\n",
       "      <td>Albert Hahn</td>\n",
       "    </tr>\n",
       "    <tr>\n",
       "      <td>...</td>\n",
       "      <td>...</td>\n",
       "      <td>...</td>\n",
       "      <td>...</td>\n",
       "      <td>...</td>\n",
       "      <td>...</td>\n",
       "      <td>...</td>\n",
       "      <td>...</td>\n",
       "      <td>...</td>\n",
       "    </tr>\n",
       "    <tr>\n",
       "      <td>864355</td>\n",
       "      <td>1982594</td>\n",
       "      <td>2020-03-15</td>\n",
       "      <td>2037</td>\n",
       "      <td>27230</td>\n",
       "      <td>500</td>\n",
       "      <td>282</td>\n",
       "      <td>Ben Greenwood</td>\n",
       "      <td>Marianne Baush</td>\n",
       "    </tr>\n",
       "    <tr>\n",
       "      <td>864356</td>\n",
       "      <td>1982595</td>\n",
       "      <td>2020-03-15</td>\n",
       "      <td>2193</td>\n",
       "      <td>3232</td>\n",
       "      <td>416</td>\n",
       "      <td>360</td>\n",
       "      <td>David B Carlson</td>\n",
       "      <td>Sandra Loiterstein</td>\n",
       "    </tr>\n",
       "    <tr>\n",
       "      <td>864357</td>\n",
       "      <td>1982596</td>\n",
       "      <td>2020-03-15</td>\n",
       "      <td>2193</td>\n",
       "      <td>2037</td>\n",
       "      <td>456</td>\n",
       "      <td>419</td>\n",
       "      <td>David B Carlson</td>\n",
       "      <td>Ben Greenwood</td>\n",
       "    </tr>\n",
       "    <tr>\n",
       "      <td>864358</td>\n",
       "      <td>1982597</td>\n",
       "      <td>2020-03-15</td>\n",
       "      <td>3232</td>\n",
       "      <td>27230</td>\n",
       "      <td>423</td>\n",
       "      <td>205</td>\n",
       "      <td>Sandra Loiterstein</td>\n",
       "      <td>Marianne Baush</td>\n",
       "    </tr>\n",
       "    <tr>\n",
       "      <td>864359</td>\n",
       "      <td>1982598</td>\n",
       "      <td>2020-03-15</td>\n",
       "      <td>27230</td>\n",
       "      <td>2193</td>\n",
       "      <td>476</td>\n",
       "      <td>332</td>\n",
       "      <td>Marianne Baush</td>\n",
       "      <td>David B Carlson</td>\n",
       "    </tr>\n",
       "  </tbody>\n",
       "</table>\n",
       "<p>864360 rows × 8 columns</p>\n",
       "</div>"
      ],
      "text/plain": [
       "              0           1      2      3    4    5                   6  \\\n",
       "0         49957  2000-01-13      4   2091  486  360         John Karris   \n",
       "1         49958  2000-01-13      4   1389  402  398         John Karris   \n",
       "2         49966  2000-01-13      5   1389  523  353       Dennis Kaiser   \n",
       "3         49996  2000-01-13     33      4  451  353        Joey Mallick   \n",
       "4         49997  2000-01-13     33    839  356  350        Joey Mallick   \n",
       "...         ...         ...    ...    ...  ...  ...                 ...   \n",
       "864355  1982594  2020-03-15   2037  27230  500  282       Ben Greenwood   \n",
       "864356  1982595  2020-03-15   2193   3232  416  360     David B Carlson   \n",
       "864357  1982596  2020-03-15   2193   2037  456  419     David B Carlson   \n",
       "864358  1982597  2020-03-15   3232  27230  423  205  Sandra Loiterstein   \n",
       "864359  1982598  2020-03-15  27230   2193  476  332      Marianne Baush   \n",
       "\n",
       "                         7  \n",
       "0         Steven Alexander  \n",
       "1               Trip Payne  \n",
       "2               Trip Payne  \n",
       "3              John Karris  \n",
       "4              Albert Hahn  \n",
       "...                    ...  \n",
       "864355      Marianne Baush  \n",
       "864356  Sandra Loiterstein  \n",
       "864357       Ben Greenwood  \n",
       "864358      Marianne Baush  \n",
       "864359     David B Carlson  \n",
       "\n",
       "[864360 rows x 8 columns]"
      ]
     },
     "execution_count": 7,
     "metadata": {},
     "output_type": "execute_result"
    }
   ],
   "source": [
    "df"
   ]
  },
  {
   "cell_type": "code",
   "execution_count": 12,
   "metadata": {},
   "outputs": [],
   "source": [
    "df.sample(frac=1).to_csv('shuffle_5.csv',header=False,index=False)"
   ]
  },
  {
   "cell_type": "code",
   "execution_count": 3,
   "metadata": {},
   "outputs": [],
   "source": [
    "df = df.rename(columns={\n",
    "    0:'game_id',\n",
    "    1:'date',\n",
    "    2:'id_1',\n",
    "    3:'id_2',\n",
    "    4:'score_1',\n",
    "    5:'score_2',\n",
    "    6:'player_1',\n",
    "    7:'player_2'\n",
    "})"
   ]
  },
  {
   "cell_type": "code",
   "execution_count": 4,
   "metadata": {},
   "outputs": [],
   "source": [
    "df['year'] = df['date'].apply(lambda x:x[:4])\n",
    "df['spread'] = df['score_1']-df['score_2']"
   ]
  },
  {
   "cell_type": "code",
   "execution_count": 5,
   "metadata": {},
   "outputs": [
    {
     "data": {
      "text/plain": [
       "<matplotlib.axes._subplots.AxesSubplot at 0x7fcad50d7110>"
      ]
     },
     "execution_count": 5,
     "metadata": {},
     "output_type": "execute_result"
    },
    {
     "data": {
      "image/png": "[encoded data removed]",
      "text/plain": [
       "<Figure size 432x288 with 1 Axes>"
      ]
     },
     "metadata": {
      "needs_background": "light"
     },
     "output_type": "display_data"
    }
   ],
   "source": [
    "fig,ax = plt.subplots()\n",
    "df['spread'].hist(bins=np.arange(-0.5,500.5))"
   ]
  },
  {
   "cell_type": "code",
   "execution_count": 6,
   "metadata": {},
   "outputs": [
    {
     "data": {
      "text/plain": [
       "<matplotlib.axes._subplots.AxesSubplot at 0x7fcad5782710>"
      ]
     },
     "execution_count": 6,
     "metadata": {},
     "output_type": "execute_result"
    },
    {
     "data": {
      "image/png": "[encoded data removed]",
      "text/plain": [
       "<Figure size 432x288 with 1 Axes>"
      ]
     },
     "metadata": {
      "needs_background": "light"
     },
     "output_type": "display_data"
    }
   ],
   "source": [
    "df['spread'].hist(cumulative=True, bins=np.arange(-0.5,500.5), density=1)"
   ]
  },
  {
   "cell_type": "code",
   "execution_count": 7,
   "metadata": {},
   "outputs": [
    {
     "data": {
      "text/plain": [
       "[<matplotlib.lines.Line2D at 0x7fcad5ee8cd0>]"
      ]
     },
     "execution_count": 7,
     "metadata": {},
     "output_type": "execute_result"
    },
    {
     "data": {
      "image/png": "[encoded data removed]",
      "text/plain": [
       "<Figure size 432x288 with 1 Axes>"
      ]
     },
     "metadata": {
      "needs_background": "light"
     },
     "output_type": "display_data"
    }
   ],
   "source": [
    "fig, ax = plt.subplots()\n",
    "ax.plot(df.groupby('year')['score_1'].mean())\n",
    "ax.plot(df.groupby('year')['score_2'].mean())"
   ]
  },
  {
   "cell_type": "code",
   "execution_count": null,
   "metadata": {},
   "outputs": [],
   "source": [
    "Calculate the CDF for all games"
   ]
  },
  {
   "cell_type": "code",
   "execution_count": 14,
   "metadata": {},
   "outputs": [
    {
     "ename": "KeyboardInterrupt",
     "evalue": "",
     "output_type": "error",
     "traceback": [
      "\u001b[0;31m---------------------------------------------------------------------------\u001b[0m",
      "\u001b[0;31mKeyboardInterrupt\u001b[0m                         Traceback (most recent call last)",
      "\u001b[0;32m<ipython-input-14-2af7102c8d2a>\u001b[0m in \u001b[0;36m<module>\u001b[0;34m\u001b[0m\n\u001b[1;32m      2\u001b[0m \u001b[0;34m\u001b[0m\u001b[0m\n\u001b[1;32m      3\u001b[0m \u001b[0;32mfor\u001b[0m \u001b[0mi\u001b[0m \u001b[0;32min\u001b[0m \u001b[0mrange\u001b[0m\u001b[0;34m(\u001b[0m\u001b[0;36m0\u001b[0m\u001b[0;34m,\u001b[0m\u001b[0;36m500\u001b[0m\u001b[0;34m)\u001b[0m\u001b[0;34m:\u001b[0m\u001b[0;34m\u001b[0m\u001b[0;34m\u001b[0m\u001b[0m\n\u001b[0;32m----> 4\u001b[0;31m     \u001b[0mmargin_cdf\u001b[0m\u001b[0;34m[\u001b[0m\u001b[0mi\u001b[0m\u001b[0;34m]\u001b[0m \u001b[0;34m=\u001b[0m \u001b[0;36m1\u001b[0m\u001b[0;34m-\u001b[0m\u001b[0msum\u001b[0m\u001b[0;34m(\u001b[0m\u001b[0mdf\u001b[0m\u001b[0;34m[\u001b[0m\u001b[0;34m'spread'\u001b[0m\u001b[0;34m]\u001b[0m\u001b[0;34m>\u001b[0m\u001b[0mi\u001b[0m\u001b[0;34m)\u001b[0m\u001b[0;34m/\u001b[0m\u001b[0mlen\u001b[0m\u001b[0;34m(\u001b[0m\u001b[0mdf\u001b[0m\u001b[0;34m)\u001b[0m\u001b[0;34m\u001b[0m\u001b[0;34m\u001b[0m\u001b[0m\n\u001b[0m",
      "\u001b[0;31mKeyboardInterrupt\u001b[0m: "
     ]
    }
   ],
   "source": [
    "margin_cdf = {}\n",
    "\n",
    "for i in range(0,500):\n",
    "    margin_cdf[i] = 1-sum(df['spread']>i)/len(df)"
   ]
  },
  {
   "cell_type": "markdown",
   "metadata": {},
   "source": [
    "Spreads have gotten wider as the years have gone by - 200 used to be the 95.8% spread mark, but is now 94.1% or so"
   ]
  },
  {
   "cell_type": "code",
   "execution_count": 18,
   "metadata": {},
   "outputs": [
    {
     "name": "stdout",
     "output_type": "stream",
     "text": [
      "2000 12117 0.03829330692415615\n",
      "2001 4554 0.05665349143610013\n",
      "2002 14931 0.04226106757752327\n",
      "2003 7958 0.04787635084192008\n",
      "2004 20304 0.04348896769109535\n",
      "2005 35437 0.04173603860371928\n",
      "2006 45708 0.045156208978734576\n",
      "2007 62262 0.04725193536988854\n",
      "2008 69098 0.049538336854901735\n",
      "2009 71812 0.05013089734306244\n",
      "2010 69641 0.04860642437644491\n",
      "2011 58925 0.05206618582944421\n",
      "2012 55638 0.05082857040152414\n",
      "2013 57930 0.05325392715346108\n",
      "2014 55739 0.05315847072965069\n",
      "2015 45924 0.055700722933542376\n",
      "2016 41590 0.055494109160855974\n",
      "2017 42527 0.05577633033131893\n",
      "2018 44288 0.05570357658959538\n",
      "2019 40877 0.05851701445800817\n",
      "2020 7100 0.06718309859154929\n"
     ]
    }
   ],
   "source": [
    "for yr in range(2000,2021):\n",
    "    sub_df = df[df['year']==str(yr)]\n",
    "    print(yr,len(sub_df),sum(sub_df['spread']>=200)/len(sub_df))"
   ]
  },
  {
   "cell_type": "code",
   "execution_count": 21,
   "metadata": {},
   "outputs": [
    {
     "data": {
      "text/html": [
       "<div>\n",
       "<style scoped>\n",
       "    .dataframe tbody tr th:only-of-type {\n",
       "        vertical-align: middle;\n",
       "    }\n",
       "\n",
       "    .dataframe tbody tr th {\n",
       "        vertical-align: top;\n",
       "    }\n",
       "\n",
       "    .dataframe thead th {\n",
       "        text-align: right;\n",
       "    }\n",
       "</style>\n",
       "<table border=\"1\" class=\"dataframe\">\n",
       "  <thead>\n",
       "    <tr style=\"text-align: right;\">\n",
       "      <th></th>\n",
       "      <th>game_id</th>\n",
       "      <th>date</th>\n",
       "      <th>id_1</th>\n",
       "      <th>id_2</th>\n",
       "      <th>score_1</th>\n",
       "      <th>score_2</th>\n",
       "      <th>player_1</th>\n",
       "      <th>player_2</th>\n",
       "      <th>year</th>\n",
       "      <th>spread</th>\n",
       "    </tr>\n",
       "  </thead>\n",
       "  <tbody>\n",
       "    <tr>\n",
       "      <td>816383</td>\n",
       "      <td>1928423</td>\n",
       "      <td>2019-01-01</td>\n",
       "      <td>10156</td>\n",
       "      <td>17680</td>\n",
       "      <td>460</td>\n",
       "      <td>334</td>\n",
       "      <td>Leesa Berahovich</td>\n",
       "      <td>Adam Ginzberg</td>\n",
       "      <td>2019</td>\n",
       "      <td>126</td>\n",
       "    </tr>\n",
       "    <tr>\n",
       "      <td>816384</td>\n",
       "      <td>1928424</td>\n",
       "      <td>2019-01-01</td>\n",
       "      <td>10156</td>\n",
       "      <td>17680</td>\n",
       "      <td>445</td>\n",
       "      <td>410</td>\n",
       "      <td>Leesa Berahovich</td>\n",
       "      <td>Adam Ginzberg</td>\n",
       "      <td>2019</td>\n",
       "      <td>35</td>\n",
       "    </tr>\n",
       "    <tr>\n",
       "      <td>816385</td>\n",
       "      <td>1928425</td>\n",
       "      <td>2019-01-01</td>\n",
       "      <td>17680</td>\n",
       "      <td>1589</td>\n",
       "      <td>563</td>\n",
       "      <td>283</td>\n",
       "      <td>Adam Ginzberg</td>\n",
       "      <td>John Wiley</td>\n",
       "      <td>2019</td>\n",
       "      <td>280</td>\n",
       "    </tr>\n",
       "    <tr>\n",
       "      <td>816386</td>\n",
       "      <td>1928421</td>\n",
       "      <td>2019-01-01</td>\n",
       "      <td>10156</td>\n",
       "      <td>6</td>\n",
       "      <td>454</td>\n",
       "      <td>382</td>\n",
       "      <td>Leesa Berahovich</td>\n",
       "      <td>Robin Levin</td>\n",
       "      <td>2019</td>\n",
       "      <td>72</td>\n",
       "    </tr>\n",
       "    <tr>\n",
       "      <td>816387</td>\n",
       "      <td>1928419</td>\n",
       "      <td>2019-01-01</td>\n",
       "      <td>10156</td>\n",
       "      <td>262</td>\n",
       "      <td>393</td>\n",
       "      <td>338</td>\n",
       "      <td>Leesa Berahovich</td>\n",
       "      <td>Andrea Carla Michaels</td>\n",
       "      <td>2019</td>\n",
       "      <td>55</td>\n",
       "    </tr>\n",
       "    <tr>\n",
       "      <td>...</td>\n",
       "      <td>...</td>\n",
       "      <td>...</td>\n",
       "      <td>...</td>\n",
       "      <td>...</td>\n",
       "      <td>...</td>\n",
       "      <td>...</td>\n",
       "      <td>...</td>\n",
       "      <td>...</td>\n",
       "      <td>...</td>\n",
       "      <td>...</td>\n",
       "    </tr>\n",
       "    <tr>\n",
       "      <td>864355</td>\n",
       "      <td>1982594</td>\n",
       "      <td>2020-03-15</td>\n",
       "      <td>2037</td>\n",
       "      <td>27230</td>\n",
       "      <td>500</td>\n",
       "      <td>282</td>\n",
       "      <td>Ben Greenwood</td>\n",
       "      <td>Marianne Baush</td>\n",
       "      <td>2020</td>\n",
       "      <td>218</td>\n",
       "    </tr>\n",
       "    <tr>\n",
       "      <td>864356</td>\n",
       "      <td>1982595</td>\n",
       "      <td>2020-03-15</td>\n",
       "      <td>2193</td>\n",
       "      <td>3232</td>\n",
       "      <td>416</td>\n",
       "      <td>360</td>\n",
       "      <td>David B Carlson</td>\n",
       "      <td>Sandra Loiterstein</td>\n",
       "      <td>2020</td>\n",
       "      <td>56</td>\n",
       "    </tr>\n",
       "    <tr>\n",
       "      <td>864357</td>\n",
       "      <td>1982596</td>\n",
       "      <td>2020-03-15</td>\n",
       "      <td>2193</td>\n",
       "      <td>2037</td>\n",
       "      <td>456</td>\n",
       "      <td>419</td>\n",
       "      <td>David B Carlson</td>\n",
       "      <td>Ben Greenwood</td>\n",
       "      <td>2020</td>\n",
       "      <td>37</td>\n",
       "    </tr>\n",
       "    <tr>\n",
       "      <td>864358</td>\n",
       "      <td>1982597</td>\n",
       "      <td>2020-03-15</td>\n",
       "      <td>3232</td>\n",
       "      <td>27230</td>\n",
       "      <td>423</td>\n",
       "      <td>205</td>\n",
       "      <td>Sandra Loiterstein</td>\n",
       "      <td>Marianne Baush</td>\n",
       "      <td>2020</td>\n",
       "      <td>218</td>\n",
       "    </tr>\n",
       "    <tr>\n",
       "      <td>864359</td>\n",
       "      <td>1982598</td>\n",
       "      <td>2020-03-15</td>\n",
       "      <td>27230</td>\n",
       "      <td>2193</td>\n",
       "      <td>476</td>\n",
       "      <td>332</td>\n",
       "      <td>Marianne Baush</td>\n",
       "      <td>David B Carlson</td>\n",
       "      <td>2020</td>\n",
       "      <td>144</td>\n",
       "    </tr>\n",
       "  </tbody>\n",
       "</table>\n",
       "<p>47977 rows × 10 columns</p>\n",
       "</div>"
      ],
      "text/plain": [
       "        game_id        date   id_1   id_2  score_1  score_2  \\\n",
       "816383  1928423  2019-01-01  10156  17680      460      334   \n",
       "816384  1928424  2019-01-01  10156  17680      445      410   \n",
       "816385  1928425  2019-01-01  17680   1589      563      283   \n",
       "816386  1928421  2019-01-01  10156      6      454      382   \n",
       "816387  1928419  2019-01-01  10156    262      393      338   \n",
       "...         ...         ...    ...    ...      ...      ...   \n",
       "864355  1982594  2020-03-15   2037  27230      500      282   \n",
       "864356  1982595  2020-03-15   2193   3232      416      360   \n",
       "864357  1982596  2020-03-15   2193   2037      456      419   \n",
       "864358  1982597  2020-03-15   3232  27230      423      205   \n",
       "864359  1982598  2020-03-15  27230   2193      476      332   \n",
       "\n",
       "                  player_1               player_2  year  spread  \n",
       "816383    Leesa Berahovich          Adam Ginzberg  2019     126  \n",
       "816384    Leesa Berahovich          Adam Ginzberg  2019      35  \n",
       "816385       Adam Ginzberg             John Wiley  2019     280  \n",
       "816386    Leesa Berahovich            Robin Levin  2019      72  \n",
       "816387    Leesa Berahovich  Andrea Carla Michaels  2019      55  \n",
       "...                    ...                    ...   ...     ...  \n",
       "864355       Ben Greenwood         Marianne Baush  2020     218  \n",
       "864356     David B Carlson     Sandra Loiterstein  2020      56  \n",
       "864357     David B Carlson          Ben Greenwood  2020      37  \n",
       "864358  Sandra Loiterstein         Marianne Baush  2020     218  \n",
       "864359      Marianne Baush        David B Carlson  2020     144  \n",
       "\n",
       "[47977 rows x 10 columns]"
      ]
     },
     "execution_count": 21,
     "metadata": {},
     "output_type": "execute_result"
    }
   ],
   "source": [
    "df.loc[df['year']>'2018']"
   ]
  },
  {
   "cell_type": "code",
   "execution_count": null,
   "metadata": {},
   "outputs": [],
   "source": []
  }
 ],
 "metadata": {
  "kernelspec": {
   "display_name": "Python 3",
   "language": "python",
   "name": "python3"
  },
  "language_info": {
   "codemirror_mode": {
    "name": "ipython",
    "version": 3
   },
   "file_extension": ".py",
   "mimetype": "text/x-python",
   "name": "python",
   "nbconvert_exporter": "python",
   "pygments_lexer": "ipython3",
   "version": "3.7.4"
  }
 },
 "nbformat": 4,
 "nbformat_minor": 4
}
